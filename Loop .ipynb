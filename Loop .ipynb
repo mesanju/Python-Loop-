{
 "cells": [
  {
   "cell_type": "markdown",
   "metadata": {},
   "source": [
    "While Loop"
   ]
  },
  {
   "cell_type": "code",
   "execution_count": 1,
   "metadata": {},
   "outputs": [],
   "source": [
    "while False:\n",
    "    print(\"hello\")"
   ]
  },
  {
   "cell_type": "code",
   "execution_count": 2,
   "metadata": {},
   "outputs": [],
   "source": [
    "while True:         #Will print infinite times, press double zero to stop printing\n",
    "    #print(\"hello\")"
   ]
  },
  {
   "cell_type": "code",
   "execution_count": 8,
   "metadata": {},
   "outputs": [
    {
     "name": "stdout",
     "output_type": "stream",
     "text": [
      "0\n",
      "1\n",
      "2\n",
      "3\n",
      "4\n",
      "5\n",
      "6\n",
      "7\n",
      "8\n",
      "9\n"
     ]
    }
   ],
   "source": [
    "#counting \n",
    "\n",
    "counter = 0\n",
    "while counter<10:\n",
    "    print(counter)\n",
    "    counter = counter + 1\n",
    "    "
   ]
  },
  {
   "cell_type": "code",
   "execution_count": 11,
   "metadata": {},
   "outputs": [
    {
     "name": "stdout",
     "output_type": "stream",
     "text": [
      "Hello\n",
      "Hello\n",
      "Hello\n",
      "Hello\n",
      "Hello\n"
     ]
    }
   ],
   "source": [
    "# For Loop\n",
    "\n",
    "for i in range(5): #condition\n",
    "    print(\"Hello\") # Body / executable code\n",
    "    "
   ]
  },
  {
   "cell_type": "code",
   "execution_count": 15,
   "metadata": {},
   "outputs": [
    {
     "name": "stdout",
     "output_type": "stream",
     "text": [
      "hello python: 0\n",
      "hello python: 1\n",
      "hello python: 2\n",
      "hello python: 3\n",
      "hello python: 4\n"
     ]
    }
   ],
   "source": [
    "for i in range (5):\n",
    "    print(\"hello python:\", i)"
   ]
  },
  {
   "cell_type": "code",
   "execution_count": 13,
   "metadata": {},
   "outputs": [
    {
     "data": {
      "text/plain": [
       "range(0, 5)"
      ]
     },
     "execution_count": 13,
     "metadata": {},
     "output_type": "execute_result"
    }
   ],
   "source": [
    "range(5)"
   ]
  },
  {
   "cell_type": "code",
   "execution_count": 14,
   "metadata": {},
   "outputs": [
    {
     "data": {
      "text/plain": [
       "[0, 1, 2, 3, 4]"
      ]
     },
     "execution_count": 14,
     "metadata": {},
     "output_type": "execute_result"
    }
   ],
   "source": [
    "list(range(5))"
   ]
  },
  {
   "cell_type": "code",
   "execution_count": 16,
   "metadata": {},
   "outputs": [
    {
     "name": "stdout",
     "output_type": "stream",
     "text": [
      "i is equal to: 10\n",
      "i is equal to: 100\n",
      "i is equal to: 1000\n"
     ]
    }
   ],
   "source": [
    "my_list = [10,100,1000]\n",
    "for i in my_list:\n",
    "    print(\"i is equal to:\", i)"
   ]
  },
  {
   "cell_type": "code",
   "execution_count": 25,
   "metadata": {},
   "outputs": [],
   "source": [
    "# If statement : if, else, elif\n",
    "\n",
    "import numpy as np\n",
    "from numpy.random import randn\n",
    "\n"
   ]
  },
  {
   "cell_type": "code",
   "execution_count": 26,
   "metadata": {},
   "outputs": [
    {
     "data": {
      "text/plain": [
       "0.18562504735360655"
      ]
     },
     "execution_count": 26,
     "metadata": {},
     "output_type": "execute_result"
    }
   ],
   "source": [
    "randn()"
   ]
  },
  {
   "cell_type": "code",
   "execution_count": 44,
   "metadata": {},
   "outputs": [
    {
     "name": "stdout",
     "output_type": "stream",
     "text": [
      "1.0135375476788298\n",
      "greater than 1\n"
     ]
    }
   ],
   "source": [
    "x = randn()\n",
    "answer = None\n",
    "if x > 1:\n",
    "    answer = \"greater than 1\"\n",
    "print(x)\n",
    "print(answer)"
   ]
  },
  {
   "cell_type": "code",
   "execution_count": 46,
   "metadata": {},
   "outputs": [
    {
     "name": "stdout",
     "output_type": "stream",
     "text": [
      "-1.5386330569575493\n",
      " less than -1\n"
     ]
    }
   ],
   "source": [
    "# Nested Statement ---- -2---- -1---0---1---2\n",
    "answer = None\n",
    "x = randn()\n",
    "if x > 1:\n",
    "    answer = \"Greater than 1\"\n",
    "else:\n",
    "    if x >= -1:\n",
    "        answer = \"between -1 and 1\"\n",
    "    else:\n",
    "        answer = \" less than -1\"\n",
    "print(x)\n",
    "print(answer)"
   ]
  },
  {
   "cell_type": "code",
   "execution_count": 47,
   "metadata": {},
   "outputs": [
    {
     "name": "stdout",
     "output_type": "stream",
     "text": [
      "1.1558925494268222\n",
      "greater than 1\n"
     ]
    }
   ],
   "source": [
    "# Chained Statement ---- -2---- -1---0---1---2\n",
    "answer = None\n",
    "x = randn()\n",
    "if x>1:\n",
    "    answer = \"greater than 1\"\n",
    "elif x >=-1:\n",
    "    answer = \"between -1 and 1\"\n",
    "else:\n",
    "    answer = \"less than -1\"\n",
    "print(x)\n",
    "print(answer)"
   ]
  },
  {
   "cell_type": "code",
   "execution_count": 62,
   "metadata": {},
   "outputs": [
    {
     "name": "stdout",
     "output_type": "stream",
     "text": [
      "N: 10000\n",
      " Number between -1 and 1: 6822 Mean:  0.6822\n"
     ]
    }
   ],
   "source": [
    "# Project: 1 # references: www.superdatascience\n",
    "\n",
    "\"\"\"\"Test the Law of Large Numbers for N random normally distributed numbers with\n",
    "mean=0 and standard deviation=1\n",
    "\n",
    "Create a Python script that will count how many of these numbers fall between -1 and 1 \n",
    "and divide that by the total quantity N\n",
    "You Know that E(X)=68.2% # expected value\n",
    "check that the mean(Xn) is closer to E(X) as you rerun our script while increasing N.\n",
    "\"\"\"\n",
    "\n",
    "N = input(\"N: \")\n",
    "N = int(N)\n",
    "counter = 0 # count of numners between -1 ans 1\n",
    "import numpy as np\n",
    "from numpy.random import randn\n",
    "for i in randn(N):\n",
    "    if i > -1 and i < 1:\n",
    "        counter = counter + 1\n",
    "print(\" Number between -1 and 1:\", counter, \"Mean: \", counter/N)\n"
   ]
  },
  {
   "cell_type": "code",
   "execution_count": null,
   "metadata": {},
   "outputs": [],
   "source": []
  }
 ],
 "metadata": {
  "kernelspec": {
   "display_name": "Python 3",
   "language": "python",
   "name": "python3"
  },
  "language_info": {
   "codemirror_mode": {
    "name": "ipython",
    "version": 3
   },
   "file_extension": ".py",
   "mimetype": "text/x-python",
   "name": "python",
   "nbconvert_exporter": "python",
   "pygments_lexer": "ipython3",
   "version": "3.7.3"
  }
 },
 "nbformat": 4,
 "nbformat_minor": 2
}
