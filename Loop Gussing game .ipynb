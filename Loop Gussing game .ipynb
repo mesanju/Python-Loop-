{
 "cells": [
  {
   "cell_type": "code",
   "execution_count": null,
   "metadata": {},
   "outputs": [
    {
     "name": "stdout",
     "output_type": "stream",
     "text": [
      "pick a random number from 1-10: 5\n",
      "you win\n",
      "Do you want to play again: (y/n)y\n",
      "pick a random number from 1-10: 6\n",
      "too high\n",
      "pick a random number from 1-10: 3\n",
      "too high\n",
      "pick a random number from 1-10: 1\n",
      "you win\n"
     ]
    }
   ],
   "source": [
    "import random\n",
    "ran_num = random.randint(1,10) # prints number from 1-10 inclusive\n",
    "guess = None\n",
    "\n",
    "while True:\n",
    "    guess = int(input(\"Pick a random number from 1-10: \"))\n",
    "    if guess < ran_num:\n",
    "        print(\"Too low!!\")\n",
    "    elif guess > ran_num:\n",
    "        print(\"Too high!!\")\n",
    "    else:\n",
    "        print(\"You Win!!\")\n",
    "        play_again = input(\"Do you want to play again: (y/n)\")\n",
    "        if play_again == \"y\":\n",
    "            ran_num = random.randint(1,10)\n",
    "        else:\n",
    "            print(\"Thank you for playing!!!\")\n",
    "            break\n",
    "\n"
   ]
  },
  {
   "cell_type": "code",
   "execution_count": null,
   "metadata": {},
   "outputs": [],
   "source": []
  }
 ],
 "metadata": {
  "kernelspec": {
   "display_name": "Python 3",
   "language": "python",
   "name": "python3"
  },
  "language_info": {
   "codemirror_mode": {
    "name": "ipython",
    "version": 3
   },
   "file_extension": ".py",
   "mimetype": "text/x-python",
   "name": "python",
   "nbconvert_exporter": "python",
   "pygments_lexer": "ipython3",
   "version": "3.7.3"
  }
 },
 "nbformat": 4,
 "nbformat_minor": 2
}
