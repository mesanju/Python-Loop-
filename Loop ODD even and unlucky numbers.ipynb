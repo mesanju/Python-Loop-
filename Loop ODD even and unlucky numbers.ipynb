{
 "cells": [
  {
   "cell_type": "code",
   "execution_count": 2,
   "metadata": {},
   "outputs": [
    {
     "name": "stdout",
     "output_type": "stream",
     "text": [
      "Number 1 is odd !\n",
      "Number 2 is even !\n",
      "Number 3 is odd !\n",
      "Number 4 is unlucky !\n",
      "Number 5 is odd !\n",
      "Number 6 is even !\n",
      "Number 7 is odd !\n",
      "Number 8 is even !\n",
      "Number 9 is odd !\n",
      "Number 10 is even !\n",
      "Number 11 is odd !\n",
      "Number 12 is even !\n",
      "Number 13 is unlucky !\n",
      "Number 14 is even !\n",
      "Number 15 is odd !\n",
      "Number 16 is even !\n",
      "Number 17 is odd !\n",
      "Number 18 is even !\n",
      "Number 19 is odd !\n",
      "Number 20 is even !\n"
     ]
    }
   ],
   "source": [
    "for num in range(1,21):\n",
    "    if num == 4 or num == 13:\n",
    "        status = \"unlucky\"\n",
    "    elif num % 2 == 0:\n",
    "        status = \"even\"\n",
    "    else:\n",
    "        status = \"odd\"\n",
    "    print(f\"Number {num} is {status} !\")"
   ]
  },
  {
   "cell_type": "code",
   "execution_count": null,
   "metadata": {},
   "outputs": [],
   "source": []
  }
 ],
 "metadata": {
  "kernelspec": {
   "display_name": "Python 3",
   "language": "python",
   "name": "python3"
  },
  "language_info": {
   "codemirror_mode": {
    "name": "ipython",
    "version": 3
   },
   "file_extension": ".py",
   "mimetype": "text/x-python",
   "name": "python",
   "nbconvert_exporter": "python",
   "pygments_lexer": "ipython3",
   "version": "3.7.3"
  }
 },
 "nbformat": 4,
 "nbformat_minor": 2
}
